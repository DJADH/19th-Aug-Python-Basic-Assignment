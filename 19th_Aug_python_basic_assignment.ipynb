{
 "cells": [
  {
   "cell_type": "code",
   "execution_count": 18,
   "id": "b6402037-0d65-4021-bf7a-9d55debfa67c",
   "metadata": {},
   "outputs": [],
   "source": [
    "'''Python Basics Variable Question 1 - Declare two variables, `x` and `y`, and assign them integer values. Swap the\n",
    "values of these variables without using any temporary variable.'''\n",
    "x=5\n",
    "y=10\n"
   ]
  },
  {
   "cell_type": "code",
   "execution_count": 19,
   "id": "859dd9cf-1eb3-47de-b1e2-d0c2c2848fac",
   "metadata": {},
   "outputs": [],
   "source": [
    "x,y = y,x"
   ]
  },
  {
   "cell_type": "code",
   "execution_count": 20,
   "id": "46f030f3-2510-4ce0-8d10-516f38133c7e",
   "metadata": {},
   "outputs": [
    {
     "data": {
      "text/plain": [
       "10"
      ]
     },
     "execution_count": 20,
     "metadata": {},
     "output_type": "execute_result"
    }
   ],
   "source": [
    "x"
   ]
  },
  {
   "cell_type": "code",
   "execution_count": 21,
   "id": "73f9432c-5e21-474c-8cf2-9c6f0213b0bf",
   "metadata": {},
   "outputs": [
    {
     "data": {
      "text/plain": [
       "5"
      ]
     },
     "execution_count": 21,
     "metadata": {},
     "output_type": "execute_result"
    }
   ],
   "source": [
    "y"
   ]
  },
  {
   "cell_type": "code",
   "execution_count": 4,
   "id": "4506d5a2-fa11-4c5d-af1f-bb0b8f032272",
   "metadata": {},
   "outputs": [
    {
     "name": "stdin",
     "output_type": "stream",
     "text": [
      " 20\n"
     ]
    }
   ],
   "source": [
    "'''Python Basics Variable Question 2 - Create a program that calculates the area of a rectangle. Take the length and\n",
    "width as inputs from the user and store them in variables. Calculate and display the area.'''\n",
    "\n",
    "length = float(input())"
   ]
  },
  {
   "cell_type": "code",
   "execution_count": 1,
   "id": "f59f4c8e-3325-412c-948a-5a289874a173",
   "metadata": {},
   "outputs": [
    {
     "name": "stdin",
     "output_type": "stream",
     "text": [
      " 20\n"
     ]
    }
   ],
   "source": [
    "width = float(input())"
   ]
  },
  {
   "cell_type": "code",
   "execution_count": 5,
   "id": "42a80bec-a584-4e43-81dd-8ee4d9a1f182",
   "metadata": {},
   "outputs": [],
   "source": [
    "Area_of_Rectangle = length*width"
   ]
  },
  {
   "cell_type": "code",
   "execution_count": 6,
   "id": "adae1935-818c-444c-a9da-3e89d66f7238",
   "metadata": {},
   "outputs": [
    {
     "data": {
      "text/plain": [
       "400.0"
      ]
     },
     "execution_count": 6,
     "metadata": {},
     "output_type": "execute_result"
    }
   ],
   "source": [
    "Area_of_Rectangle"
   ]
  },
  {
   "cell_type": "code",
   "execution_count": 7,
   "id": "50afab84-5bfc-457d-a77d-2f317ae16d10",
   "metadata": {},
   "outputs": [
    {
     "name": "stdin",
     "output_type": "stream",
     "text": [
      " 100\n"
     ]
    }
   ],
   "source": [
    "'''Python Basics Variable Question 2 - Write a Python program that converts temperatures from Celsius to Fahrenheit. \n",
    "Take the temperature in Celsius as input, store it in a variable, convert it to Fahrenheit, and display the result.'''\n",
    "\n",
    "celsius = float(input())"
   ]
  },
  {
   "cell_type": "code",
   "execution_count": 8,
   "id": "fd9a3861-58e5-4d2c-ab6c-b49be6e2a48b",
   "metadata": {},
   "outputs": [],
   "source": [
    "Fahrenheit = celsius*(9/5)+32"
   ]
  },
  {
   "cell_type": "code",
   "execution_count": 9,
   "id": "86b02363-18eb-466d-b934-8c72fec8f39c",
   "metadata": {},
   "outputs": [
    {
     "data": {
      "text/plain": [
       "212.0"
      ]
     },
     "execution_count": 9,
     "metadata": {},
     "output_type": "execute_result"
    }
   ],
   "source": [
    "Fahrenheit"
   ]
  },
  {
   "cell_type": "code",
   "execution_count": 48,
   "id": "06407652-4c13-4769-b811-76a2b8667f9b",
   "metadata": {},
   "outputs": [
    {
     "name": "stdin",
     "output_type": "stream",
     "text": [
      " Virat Kohli\n"
     ]
    }
   ],
   "source": [
    "'''String Based Questions Q1 - Write a Python program that takes a string as input and prints the length of\n",
    "the string.'''\n",
    "\n",
    "name = input()"
   ]
  },
  {
   "cell_type": "code",
   "execution_count": 49,
   "id": "c64a4928-f4a7-4bbf-b7a2-50b65ae8f8b8",
   "metadata": {},
   "outputs": [
    {
     "data": {
      "text/plain": [
       "11"
      ]
     },
     "execution_count": 49,
     "metadata": {},
     "output_type": "execute_result"
    }
   ],
   "source": [
    "len(name)"
   ]
  },
  {
   "cell_type": "code",
   "execution_count": 56,
   "id": "bdb6ca8f-3edc-476c-9956-c3552b138d5d",
   "metadata": {},
   "outputs": [
    {
     "name": "stdin",
     "output_type": "stream",
     "text": [
      " Rohit is hitman\n"
     ]
    },
    {
     "name": "stdout",
     "output_type": "stream",
     "text": [
      "Number of Vowel are  5\n"
     ]
    }
   ],
   "source": [
    "'''String Based Questions Q2 - Create a program that takes a sentence from the user and counts the number\n",
    "of vowels (a, e, i, o, u) in the string.'''\n",
    "\n",
    "Sentence = input()\n",
    "\n",
    "vowel_count = 0\n",
    "\n",
    "for char in Sentence:\n",
    "    char_lower = char.lower()\n",
    "    if char_lower in 'aeiou':\n",
    "      vowel_count += 1\n",
    "\n",
    "print('Number of Vowel are ',vowel_count)"
   ]
  },
  {
   "cell_type": "code",
   "execution_count": 59,
   "id": "9ca06618-ba88-40a5-9acd-f0adc7f2a287",
   "metadata": {},
   "outputs": [
    {
     "name": "stdin",
     "output_type": "stream",
     "text": [
      " Python\n"
     ]
    },
    {
     "name": "stdout",
     "output_type": "stream",
     "text": [
      "nohtyP\n"
     ]
    }
   ],
   "source": [
    "'''String Based Questions Q3 - Given a string, reverse the order of characters using string slicing and print\n",
    "the reversed string.'''\n",
    "\n",
    "word = input()\n",
    "\n",
    "print(word[::-1])"
   ]
  },
  {
   "cell_type": "code",
   "execution_count": 21,
   "id": "0af9e74b-b71d-48e8-9a56-7f23d82d0d04",
   "metadata": {},
   "outputs": [
    {
     "name": "stdin",
     "output_type": "stream",
     "text": [
      " Mom\n"
     ]
    },
    {
     "name": "stdout",
     "output_type": "stream",
     "text": [
      "It is palindrome\n"
     ]
    }
   ],
   "source": [
    "'''String Based Questions Q4 - Write a program that takes a string as input and checks if it is a palindrome\n",
    "(reads the same forwards and backwards).'''\n",
    "\n",
    "word  = input()\n",
    "\n",
    "## converting it to lower cases to remove case sensetivity and unwanted space\n",
    "lower_case_word = word.replace(\" \",\"\").lower()\n",
    "reverse_word = lower_case_word[::-1]\n",
    "\n",
    "if lower_case_word == reverse_word:\n",
    "    print('It is palindrome')\n",
    "else:\n",
    "    print('It is not palindrome')\n",
    "\n",
    "\n"
   ]
  },
  {
   "cell_type": "code",
   "execution_count": 24,
   "id": "f503e5d0-2446-4115-b2fc-087b5dee60aa",
   "metadata": {},
   "outputs": [
    {
     "name": "stdin",
     "output_type": "stream",
     "text": [
      " P y t h o n\n"
     ]
    },
    {
     "name": "stdout",
     "output_type": "stream",
     "text": [
      "Python\n"
     ]
    }
   ],
   "source": [
    "'''String Based Questions Q5 - Create a program that takes a string as input and removes all the spaces from\n",
    "it. Print the modified string without spaces.'''\n",
    "\n",
    "String = input()\n",
    "Updated_String = String.replace(\" \", \"\")\n",
    "\n",
    "print(Updated_String)\n",
    "\n"
   ]
  },
  {
   "cell_type": "code",
   "execution_count": null,
   "id": "c7e5e795-08b6-4808-b531-4e8bbeac3ee0",
   "metadata": {},
   "outputs": [],
   "source": []
  }
 ],
 "metadata": {
  "kernelspec": {
   "display_name": "Python 3 (ipykernel)",
   "language": "python",
   "name": "python3"
  },
  "language_info": {
   "codemirror_mode": {
    "name": "ipython",
    "version": 3
   },
   "file_extension": ".py",
   "mimetype": "text/x-python",
   "name": "python",
   "nbconvert_exporter": "python",
   "pygments_lexer": "ipython3",
   "version": "3.10.8"
  }
 },
 "nbformat": 4,
 "nbformat_minor": 5
}
